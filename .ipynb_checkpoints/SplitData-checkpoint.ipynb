{
 "cells": [
  {
   "cell_type": "code",
   "execution_count": 3,
   "id": "d8990796-37f8-48b3-b9ef-44780175bd50",
   "metadata": {},
   "outputs": [],
   "source": [
    "def process_cell(data):\n",
    "    if '\\n' in data:\n",
    "        data = data.replace('\\n', '')\n",
    "    return float(data)\n",
    "    \n",
    "def fetch_dataset(path):\n",
    "    with open(path) as f:\n",
    "        return f.readlines()\n",
    "\n",
    "default_path = \"./data.txt\"\n",
    "X = fetch_dataset(default_path)"
   ]
  },
  {
   "cell_type": "code",
   "execution_count": 5,
   "id": "f2660732-af2a-4310-b77f-59dd07ed31ea",
   "metadata": {},
   "outputs": [
    {
     "data": {
      "text/plain": [
       "515345"
      ]
     },
     "execution_count": 5,
     "metadata": {},
     "output_type": "execute_result"
    }
   ],
   "source": [
    "len(X)"
   ]
  },
  {
   "cell_type": "code",
   "execution_count": 10,
   "id": "0ecaf43e-d55d-4abd-bd06-757a66678bad",
   "metadata": {},
   "outputs": [],
   "source": [
    "def write_to_mult_files(data, path, len_limit):\n",
    "    len_B = len_limit * 1024 * 1024 # Duzina u B, ako je len_limit u MB\n",
    "    finished = False\n",
    "    file_ind = 1\n",
    "    data_ind = 0\n",
    "    while not finished:\n",
    "        file = path + \"/data_\" + str(file_ind) + \".txt\"\n",
    "        file_ind += 1\n",
    "        with open(file, \"w\") as f:\n",
    "            len_curr = len_B\n",
    "            while data_ind < len(data):\n",
    "                len_curr-=len(data[data_ind])\n",
    "                if len_curr<0:\n",
    "                    f.close()\n",
    "                    break\n",
    "                f.write(data[data_ind])\n",
    "                data_ind+=1\n",
    "        \n",
    "        finished = data_ind >= len(data)"
   ]
  },
  {
   "cell_type": "code",
   "execution_count": 11,
   "id": "45ed5119-05fb-4c02-9fd4-dc25e17fe76d",
   "metadata": {},
   "outputs": [],
   "source": [
    "write_to_mult_files(X, \"./data\", 90)"
   ]
  }
 ],
 "metadata": {
  "kernelspec": {
   "display_name": "Python 3 (ipykernel)",
   "language": "python",
   "name": "python3"
  },
  "language_info": {
   "codemirror_mode": {
    "name": "ipython",
    "version": 3
   },
   "file_extension": ".py",
   "mimetype": "text/x-python",
   "name": "python",
   "nbconvert_exporter": "python",
   "pygments_lexer": "ipython3",
   "version": "3.12.1"
  }
 },
 "nbformat": 4,
 "nbformat_minor": 5
}
