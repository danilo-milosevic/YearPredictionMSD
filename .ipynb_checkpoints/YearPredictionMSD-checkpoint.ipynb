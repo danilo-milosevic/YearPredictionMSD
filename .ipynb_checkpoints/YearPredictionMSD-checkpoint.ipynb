{
 "cells": [
  {
   "cell_type": "markdown",
   "id": "7d37abc2-00d8-4bc0-b3ac-1bbba5e52910",
   "metadata": {},
   "source": [
    "# Imports"
   ]
  },
  {
   "cell_type": "markdown",
   "id": "bf42a37e-773f-4e3b-8356-496050fce21f",
   "metadata": {},
   "source": [
    "# Fetch"
   ]
  },
  {
   "cell_type": "code",
   "execution_count": 2,
   "id": "6da14fb4-e277-4fdc-bdb2-233fcce8388a",
   "metadata": {},
   "outputs": [],
   "source": [
    "def process_cell(data):\n",
    "    if '\\n' in data:\n",
    "        data = data.replace('\\n', '')\n",
    "    return float(data)\n",
    "\n",
    "def read_from_files(path, file_list):\n",
    "    y=[]\n",
    "    X=[]\n",
    "    for file in file_list:\n",
    "        with open(path+'/'+file) as f:\n",
    "            read_lines = f.readlines()\n",
    "            for i in range(len(read_lines)):\n",
    "                line = list(map(process_cell, read_lines[i].split(',')))\n",
    "                X.append(line[1:])\n",
    "                y.append(int(line[0]))\n",
    "            f.close()\n",
    "    return X,y"
   ]
  },
  {
   "cell_type": "code",
   "execution_count": 3,
   "id": "691d91e0-1e75-4613-a9f5-6f07de4e726d",
   "metadata": {},
   "outputs": [],
   "source": [
    "files = ['data_1.txt', 'data_2.txt', 'data_3.txt', 'data_4.txt', 'data_5.txt']\n",
    "path = './data'\n",
    "X, y = read_from_files(path, files)"
   ]
  },
  {
   "cell_type": "code",
   "execution_count": 5,
   "id": "3a63fa4f-089f-47fd-87a0-6afda0b1f9b2",
   "metadata": {},
   "outputs": [
    {
     "data": {
      "text/plain": [
       "515345"
      ]
     },
     "execution_count": 5,
     "metadata": {},
     "output_type": "execute_result"
    }
   ],
   "source": [
    "train_len = 463715\n",
    "X_train, y_train = np.array(X[:train_len]), np.array(y[:train_len])\n",
    "X_test, y_test = np.array(X[train_len:]), np.array(y[train_len:])"
   ]
  },
  {
   "cell_type": "markdown",
   "id": "7645937e-0d6d-4d5f-9a51-6351f6986a15",
   "metadata": {},
   "source": [
    "# Analysis"
   ]
  },
  {
   "cell_type": "code",
   "execution_count": null,
   "id": "47f1a1a7-54c3-43a9-ae27-69a17e524b40",
   "metadata": {},
   "outputs": [],
   "source": []
  },
  {
   "cell_type": "markdown",
   "id": "bfb8ec42-aa7f-4ee5-90bc-c01b16831df9",
   "metadata": {},
   "source": [
    "# Clean + Scale"
   ]
  },
  {
   "cell_type": "markdown",
   "id": "811d3091-f7c7-467a-84c5-21e23631f19d",
   "metadata": {},
   "source": [
    "# Dimensionality Reduction"
   ]
  },
  {
   "cell_type": "markdown",
   "id": "75e9fadf-8d00-4c30-b3d8-c1759ac94225",
   "metadata": {},
   "source": [
    "# Prediction"
   ]
  },
  {
   "cell_type": "markdown",
   "id": "a0fab440-c35c-422a-9895-eaec561ac00a",
   "metadata": {},
   "source": [
    "# Test"
   ]
  },
  {
   "cell_type": "code",
   "execution_count": null,
   "id": "4bacac5d-3214-4103-af15-04d56df2810d",
   "metadata": {},
   "outputs": [],
   "source": []
  }
 ],
 "metadata": {
  "kernelspec": {
   "display_name": "Python 3 (ipykernel)",
   "language": "python",
   "name": "python3"
  },
  "language_info": {
   "codemirror_mode": {
    "name": "ipython",
    "version": 3
   },
   "file_extension": ".py",
   "mimetype": "text/x-python",
   "name": "python",
   "nbconvert_exporter": "python",
   "pygments_lexer": "ipython3",
   "version": "3.12.1"
  }
 },
 "nbformat": 4,
 "nbformat_minor": 5
}
